{
  "nbformat": 4,
  "nbformat_minor": 0,
  "metadata": {
    "colab": {
      "name": "Train.ipynb",
      "provenance": [],
      "machine_shape": "hm",
      "collapsed_sections": []
    },
    "kernelspec": {
      "name": "python3",
      "display_name": "Python 3"
    },
    "language_info": {
      "name": "python"
    },
    "accelerator": "GPU"
  },
  "cells": [
    {
      "cell_type": "code",
      "execution_count": null,
      "metadata": {
        "id": "_7YAzYho1O3L"
      },
      "outputs": [],
      "source": [
        "#clone YOLOv5\n",
        "!git clone https://github.com/ultralytics/yolov5  # clone repo\n",
        "%cd yolov5\n",
        "%pip install -qr requirements.txt # install dependencies\n",
        "%pip install -q roboflow\n",
        "\n",
        "import torch\n",
        "import os\n",
        "from IPython.display import Image, clear_output  # to display images\n",
        "\n",
        "print(f\"Setup complete. Using torch {torch.__version__} ({torch.cuda.get_device_properties(0).name if torch.cuda.is_available() else 'CPU'})\")"
      ]
    },
    {
      "cell_type": "code",
      "source": [
        "# Here the model is trained\n",
        "# The images and annotations must be in the folders indicated in the cbis-ddsm.yaml file.\n",
        "!python train.py --img 640 --batch 32 --epochs 300 --data cbis_ddsm.yaml --weights yolov5s.pt --cache --device 0 --name yolom1classMass640"
      ],
      "metadata": {
        "id": "ApddBOzvBS-Z"
      },
      "execution_count": null,
      "outputs": []
    },
    {
      "cell_type": "code",
      "source": [
        "# We compare the obtained model with the test dataset to check its accuracy.\n",
        "!python val.py --data cbis_ddsm.yaml --weights runs/train/yolos1classMass640/weights/best.pt --task test"
      ],
      "metadata": {
        "id": "NNW5o-_KsRoH"
      },
      "execution_count": null,
      "outputs": []
    },
    {
      "cell_type": "code",
      "source": [
        "# Here we download the images with the detection of the anomaly.\n",
        "!python detect.py --weights runs/train/yolos1classMass640/weights/best.pt --source ../datasets/cbis-ddsm/images/test"
      ],
      "metadata": {
        "id": "WJDoVu2wp5wl"
      },
      "execution_count": null,
      "outputs": []
    }
  ]
}